{
  "cells": [
    {
      "cell_type": "markdown",
      "source": [
        "# Scoping du projet"
      ],
      "metadata": {
        "id": "ml808zYlkaeX"
      }
    },
    {
      "cell_type": "markdown",
      "source": [
        "Le jeu de données que nous avons la charge de travailler contient des informations sous forme de paires de phrases (prémisse et hypothèse) avec des métadonnées telles que les identifiants, les abréviations de langue et les étiquettes de langue. Ce jeu de données semble être utilisé pour des tâches de compréhension de langage naturel, comme la classification d'inférence ou la prédiction de la relation entre la prémisse et l'hypothèse. En ce qui nous concerne, nous sommes charger de classifier la colonne \"promised\" + \"hypothesis\" en fonction du label correspondant.\n",
        "\n",
        "1. **Objectif du projet** :\n",
        "   - L'objectif principal est de développer un modèle de Deep Learning capable de prédire la relation entre la prémisse et l'hypothèse dans chaque paire de phrases.\n",
        "\n",
        "2. **Tâche** :\n",
        "   - Tâche de classification : Prédire la relation entre la prémisse et l'hypothèse. Les classes peuvent être les différentes relations possibles telles que \"Contradiction\", \"Entailment\" et \"Neutral\".\n",
        "\n",
        "3. **Métriques d'évaluation** :\n",
        "   - Les métriques d'évaluation appropriées pour cette tâche pourraient inclure la précision, le rappel, la F1-score, et la matrice de confusion.\n",
        "\n",
        "4. **Collecte et préparation des données** :\n",
        "   - Prétraitement : Nettoyer le texte en retirant les caractères spéciaux, en normalisant la casse, etc.\n",
        "   - Diviser le jeu de données en ensembles d'entraînement, de validation et de test.\n",
        "\n",
        "5. **Architecture du modèle** :\n",
        "   - Choisissez une architecture appropriée pour la tâche, telle qu'un modèle basé sur Transformer (BERT, RoBERTa, etc.) ou des réseaux de neurones récurrents (LSTM, GRU) en fonction de la complexité de la tâche.\n",
        "\n",
        "6. **Entraînement et évaluation du modèle** :\n",
        "   - Entraînez le modèle sur l'ensemble d'entraînement et ajustez les hyperparamètres pour optimiser les performances.\n",
        "   - Évaluez le modèle sur l'ensemble de validation pour surveiller le surapprentissage et ajuster les paramètres en conséquence.\n",
        "\n",
        "7. **Tests finaux** :\n",
        "   - Évaluez le modèle final sur l'ensemble de test pour obtenir une évaluation impartiale de ses performances.\n",
        "\n",
        "8. **Communication des résultats** :\n",
        "   - Présentez les performances du modèle à l'aide de métriques appropriées dans un rapport ou une présentation.\n",
        "\n",
        "9. **Itérations** :\n",
        "   - En fonction des performances du modèle, effectuez des itérations pour ajuster les hyperparamètres, essayer différentes architectures et améliorer les résultats.\n",
        "\n",
        "10. **Gestion des ressources** :\n",
        "   - Assurez-vous d'avoir suffisamment de puissance de calcul pour l'entraînement des modèles et de prévoir des ressources pour les expériences itératives.\n",
        "\n",
        "11. **Limitations et risques** :\n",
        "   - Identifiez les limitations potentielles du modèle, telles que la nécessité d'un grand volume de données annotées et les défis liés aux langues moins courantes."
      ],
      "metadata": {
        "id": "LOwpBge1sYdp"
      }
    },
    {
      "cell_type": "markdown",
      "source": [
        "# Data"
      ],
      "metadata": {
        "id": "NWLouatrtmui"
      }
    },
    {
      "cell_type": "code",
      "source": [
        "#!pip install xlrd\n",
        "\n"
      ],
      "metadata": {
        "id": "z_fnmbWYEGYm"
      },
      "execution_count": 15,
      "outputs": []
    },
    {
      "cell_type": "code",
      "source": [
        "import pandas as pd"
      ],
      "metadata": {
        "id": "ThlB-AjfBksy"
      },
      "execution_count": 16,
      "outputs": []
    },
    {
      "cell_type": "code",
      "source": [
        "from google.colab import drive\n",
        "drive.mount('/content/drive')"
      ],
      "metadata": {
        "colab": {
          "base_uri": "https://localhost:8080/"
        },
        "id": "yZ2thxyLAJqj",
        "outputId": "8b211769-dff8-4ea1-bb41-56cc9970e0cd"
      },
      "execution_count": 17,
      "outputs": [
        {
          "output_type": "stream",
          "name": "stdout",
          "text": [
            "Drive already mounted at /content/drive; to attempt to forcibly remount, call drive.mount(\"/content/drive\", force_remount=True).\n"
          ]
        }
      ]
    },
    {
      "cell_type": "code",
      "source": [
        "# Charger le jeu de données\n",
        "df = pd.read_excel('/content/drive/Othercomputers/Mon ordinateur/DIT MASTER1 2022/MASTER 2/DEEP LEARNING/devoir/contradictory-my-dear.xlsx')"
      ],
      "metadata": {
        "id": "Uzm7hLI1ASKO"
      },
      "execution_count": 18,
      "outputs": []
    },
    {
      "cell_type": "code",
      "source": [
        "df.head()"
      ],
      "metadata": {
        "colab": {
          "base_uri": "https://localhost:8080/",
          "height": 0
        },
        "id": "eZv2yqWEEWgh",
        "outputId": "9a238197-7aab-44e3-e00c-4c5ab2d504d8"
      },
      "execution_count": 19,
      "outputs": [
        {
          "output_type": "execute_result",
          "data": {
            "text/plain": [
              "           id                                            premise  \\\n",
              "0  5130fd2cb5  and these comments were considered in formulat...   \n",
              "1  5b72532a0b  These are issues that we wrestle with in pract...   \n",
              "2  3931fbe82a  Des petites choses comme celles-là font une di...   \n",
              "3  5622f0c60b  you know they can't really defend themselves l...   \n",
              "4  86aaa48b45  ในการเล่นบทบาทสมมุติก็เช่นกัน โอกาสที่จะได้แสด...   \n",
              "\n",
              "                                          hypothesis lang_abv language  label  \n",
              "0  The rules developed in the interim were put to...       en  English      0  \n",
              "1  Practice groups are not permitted to work on t...       en  English      2  \n",
              "2              J'essayais d'accomplir quelque chose.       fr   French      0  \n",
              "3  They can't defend themselves because of their ...       en  English      0  \n",
              "4    เด็กสามารถเห็นได้ว่าชาติพันธุ์แตกต่างกันอย่างไร       th     Thai      1  "
            ],
            "text/html": [
              "\n",
              "  <div id=\"df-ce04b0dd-762d-4a58-a579-07f8bcfc5c91\" class=\"colab-df-container\">\n",
              "    <div>\n",
              "<style scoped>\n",
              "    .dataframe tbody tr th:only-of-type {\n",
              "        vertical-align: middle;\n",
              "    }\n",
              "\n",
              "    .dataframe tbody tr th {\n",
              "        vertical-align: top;\n",
              "    }\n",
              "\n",
              "    .dataframe thead th {\n",
              "        text-align: right;\n",
              "    }\n",
              "</style>\n",
              "<table border=\"1\" class=\"dataframe\">\n",
              "  <thead>\n",
              "    <tr style=\"text-align: right;\">\n",
              "      <th></th>\n",
              "      <th>id</th>\n",
              "      <th>premise</th>\n",
              "      <th>hypothesis</th>\n",
              "      <th>lang_abv</th>\n",
              "      <th>language</th>\n",
              "      <th>label</th>\n",
              "    </tr>\n",
              "  </thead>\n",
              "  <tbody>\n",
              "    <tr>\n",
              "      <th>0</th>\n",
              "      <td>5130fd2cb5</td>\n",
              "      <td>and these comments were considered in formulat...</td>\n",
              "      <td>The rules developed in the interim were put to...</td>\n",
              "      <td>en</td>\n",
              "      <td>English</td>\n",
              "      <td>0</td>\n",
              "    </tr>\n",
              "    <tr>\n",
              "      <th>1</th>\n",
              "      <td>5b72532a0b</td>\n",
              "      <td>These are issues that we wrestle with in pract...</td>\n",
              "      <td>Practice groups are not permitted to work on t...</td>\n",
              "      <td>en</td>\n",
              "      <td>English</td>\n",
              "      <td>2</td>\n",
              "    </tr>\n",
              "    <tr>\n",
              "      <th>2</th>\n",
              "      <td>3931fbe82a</td>\n",
              "      <td>Des petites choses comme celles-là font une di...</td>\n",
              "      <td>J'essayais d'accomplir quelque chose.</td>\n",
              "      <td>fr</td>\n",
              "      <td>French</td>\n",
              "      <td>0</td>\n",
              "    </tr>\n",
              "    <tr>\n",
              "      <th>3</th>\n",
              "      <td>5622f0c60b</td>\n",
              "      <td>you know they can't really defend themselves l...</td>\n",
              "      <td>They can't defend themselves because of their ...</td>\n",
              "      <td>en</td>\n",
              "      <td>English</td>\n",
              "      <td>0</td>\n",
              "    </tr>\n",
              "    <tr>\n",
              "      <th>4</th>\n",
              "      <td>86aaa48b45</td>\n",
              "      <td>ในการเล่นบทบาทสมมุติก็เช่นกัน โอกาสที่จะได้แสด...</td>\n",
              "      <td>เด็กสามารถเห็นได้ว่าชาติพันธุ์แตกต่างกันอย่างไร</td>\n",
              "      <td>th</td>\n",
              "      <td>Thai</td>\n",
              "      <td>1</td>\n",
              "    </tr>\n",
              "  </tbody>\n",
              "</table>\n",
              "</div>\n",
              "    <div class=\"colab-df-buttons\">\n",
              "\n",
              "  <div class=\"colab-df-container\">\n",
              "    <button class=\"colab-df-convert\" onclick=\"convertToInteractive('df-ce04b0dd-762d-4a58-a579-07f8bcfc5c91')\"\n",
              "            title=\"Convert this dataframe to an interactive table.\"\n",
              "            style=\"display:none;\">\n",
              "\n",
              "  <svg xmlns=\"http://www.w3.org/2000/svg\" height=\"24px\" viewBox=\"0 -960 960 960\">\n",
              "    <path d=\"M120-120v-720h720v720H120Zm60-500h600v-160H180v160Zm220 220h160v-160H400v160Zm0 220h160v-160H400v160ZM180-400h160v-160H180v160Zm440 0h160v-160H620v160ZM180-180h160v-160H180v160Zm440 0h160v-160H620v160Z\"/>\n",
              "  </svg>\n",
              "    </button>\n",
              "\n",
              "  <style>\n",
              "    .colab-df-container {\n",
              "      display:flex;\n",
              "      gap: 12px;\n",
              "    }\n",
              "\n",
              "    .colab-df-convert {\n",
              "      background-color: #E8F0FE;\n",
              "      border: none;\n",
              "      border-radius: 50%;\n",
              "      cursor: pointer;\n",
              "      display: none;\n",
              "      fill: #1967D2;\n",
              "      height: 32px;\n",
              "      padding: 0 0 0 0;\n",
              "      width: 32px;\n",
              "    }\n",
              "\n",
              "    .colab-df-convert:hover {\n",
              "      background-color: #E2EBFA;\n",
              "      box-shadow: 0px 1px 2px rgba(60, 64, 67, 0.3), 0px 1px 3px 1px rgba(60, 64, 67, 0.15);\n",
              "      fill: #174EA6;\n",
              "    }\n",
              "\n",
              "    .colab-df-buttons div {\n",
              "      margin-bottom: 4px;\n",
              "    }\n",
              "\n",
              "    [theme=dark] .colab-df-convert {\n",
              "      background-color: #3B4455;\n",
              "      fill: #D2E3FC;\n",
              "    }\n",
              "\n",
              "    [theme=dark] .colab-df-convert:hover {\n",
              "      background-color: #434B5C;\n",
              "      box-shadow: 0px 1px 3px 1px rgba(0, 0, 0, 0.15);\n",
              "      filter: drop-shadow(0px 1px 2px rgba(0, 0, 0, 0.3));\n",
              "      fill: #FFFFFF;\n",
              "    }\n",
              "  </style>\n",
              "\n",
              "    <script>\n",
              "      const buttonEl =\n",
              "        document.querySelector('#df-ce04b0dd-762d-4a58-a579-07f8bcfc5c91 button.colab-df-convert');\n",
              "      buttonEl.style.display =\n",
              "        google.colab.kernel.accessAllowed ? 'block' : 'none';\n",
              "\n",
              "      async function convertToInteractive(key) {\n",
              "        const element = document.querySelector('#df-ce04b0dd-762d-4a58-a579-07f8bcfc5c91');\n",
              "        const dataTable =\n",
              "          await google.colab.kernel.invokeFunction('convertToInteractive',\n",
              "                                                    [key], {});\n",
              "        if (!dataTable) return;\n",
              "\n",
              "        const docLinkHtml = 'Like what you see? Visit the ' +\n",
              "          '<a target=\"_blank\" href=https://colab.research.google.com/notebooks/data_table.ipynb>data table notebook</a>'\n",
              "          + ' to learn more about interactive tables.';\n",
              "        element.innerHTML = '';\n",
              "        dataTable['output_type'] = 'display_data';\n",
              "        await google.colab.output.renderOutput(dataTable, element);\n",
              "        const docLink = document.createElement('div');\n",
              "        docLink.innerHTML = docLinkHtml;\n",
              "        element.appendChild(docLink);\n",
              "      }\n",
              "    </script>\n",
              "  </div>\n",
              "\n",
              "\n",
              "<div id=\"df-6f9196d1-de1e-4fc8-bbcc-f602a7c3c8ad\">\n",
              "  <button class=\"colab-df-quickchart\" onclick=\"quickchart('df-6f9196d1-de1e-4fc8-bbcc-f602a7c3c8ad')\"\n",
              "            title=\"Suggest charts.\"\n",
              "            style=\"display:none;\">\n",
              "\n",
              "<svg xmlns=\"http://www.w3.org/2000/svg\" height=\"24px\"viewBox=\"0 0 24 24\"\n",
              "     width=\"24px\">\n",
              "    <g>\n",
              "        <path d=\"M19 3H5c-1.1 0-2 .9-2 2v14c0 1.1.9 2 2 2h14c1.1 0 2-.9 2-2V5c0-1.1-.9-2-2-2zM9 17H7v-7h2v7zm4 0h-2V7h2v10zm4 0h-2v-4h2v4z\"/>\n",
              "    </g>\n",
              "</svg>\n",
              "  </button>\n",
              "\n",
              "<style>\n",
              "  .colab-df-quickchart {\n",
              "      --bg-color: #E8F0FE;\n",
              "      --fill-color: #1967D2;\n",
              "      --hover-bg-color: #E2EBFA;\n",
              "      --hover-fill-color: #174EA6;\n",
              "      --disabled-fill-color: #AAA;\n",
              "      --disabled-bg-color: #DDD;\n",
              "  }\n",
              "\n",
              "  [theme=dark] .colab-df-quickchart {\n",
              "      --bg-color: #3B4455;\n",
              "      --fill-color: #D2E3FC;\n",
              "      --hover-bg-color: #434B5C;\n",
              "      --hover-fill-color: #FFFFFF;\n",
              "      --disabled-bg-color: #3B4455;\n",
              "      --disabled-fill-color: #666;\n",
              "  }\n",
              "\n",
              "  .colab-df-quickchart {\n",
              "    background-color: var(--bg-color);\n",
              "    border: none;\n",
              "    border-radius: 50%;\n",
              "    cursor: pointer;\n",
              "    display: none;\n",
              "    fill: var(--fill-color);\n",
              "    height: 32px;\n",
              "    padding: 0;\n",
              "    width: 32px;\n",
              "  }\n",
              "\n",
              "  .colab-df-quickchart:hover {\n",
              "    background-color: var(--hover-bg-color);\n",
              "    box-shadow: 0 1px 2px rgba(60, 64, 67, 0.3), 0 1px 3px 1px rgba(60, 64, 67, 0.15);\n",
              "    fill: var(--button-hover-fill-color);\n",
              "  }\n",
              "\n",
              "  .colab-df-quickchart-complete:disabled,\n",
              "  .colab-df-quickchart-complete:disabled:hover {\n",
              "    background-color: var(--disabled-bg-color);\n",
              "    fill: var(--disabled-fill-color);\n",
              "    box-shadow: none;\n",
              "  }\n",
              "\n",
              "  .colab-df-spinner {\n",
              "    border: 2px solid var(--fill-color);\n",
              "    border-color: transparent;\n",
              "    border-bottom-color: var(--fill-color);\n",
              "    animation:\n",
              "      spin 1s steps(1) infinite;\n",
              "  }\n",
              "\n",
              "  @keyframes spin {\n",
              "    0% {\n",
              "      border-color: transparent;\n",
              "      border-bottom-color: var(--fill-color);\n",
              "      border-left-color: var(--fill-color);\n",
              "    }\n",
              "    20% {\n",
              "      border-color: transparent;\n",
              "      border-left-color: var(--fill-color);\n",
              "      border-top-color: var(--fill-color);\n",
              "    }\n",
              "    30% {\n",
              "      border-color: transparent;\n",
              "      border-left-color: var(--fill-color);\n",
              "      border-top-color: var(--fill-color);\n",
              "      border-right-color: var(--fill-color);\n",
              "    }\n",
              "    40% {\n",
              "      border-color: transparent;\n",
              "      border-right-color: var(--fill-color);\n",
              "      border-top-color: var(--fill-color);\n",
              "    }\n",
              "    60% {\n",
              "      border-color: transparent;\n",
              "      border-right-color: var(--fill-color);\n",
              "    }\n",
              "    80% {\n",
              "      border-color: transparent;\n",
              "      border-right-color: var(--fill-color);\n",
              "      border-bottom-color: var(--fill-color);\n",
              "    }\n",
              "    90% {\n",
              "      border-color: transparent;\n",
              "      border-bottom-color: var(--fill-color);\n",
              "    }\n",
              "  }\n",
              "</style>\n",
              "\n",
              "  <script>\n",
              "    async function quickchart(key) {\n",
              "      const quickchartButtonEl =\n",
              "        document.querySelector('#' + key + ' button');\n",
              "      quickchartButtonEl.disabled = true;  // To prevent multiple clicks.\n",
              "      quickchartButtonEl.classList.add('colab-df-spinner');\n",
              "      try {\n",
              "        const charts = await google.colab.kernel.invokeFunction(\n",
              "            'suggestCharts', [key], {});\n",
              "      } catch (error) {\n",
              "        console.error('Error during call to suggestCharts:', error);\n",
              "      }\n",
              "      quickchartButtonEl.classList.remove('colab-df-spinner');\n",
              "      quickchartButtonEl.classList.add('colab-df-quickchart-complete');\n",
              "    }\n",
              "    (() => {\n",
              "      let quickchartButtonEl =\n",
              "        document.querySelector('#df-6f9196d1-de1e-4fc8-bbcc-f602a7c3c8ad button');\n",
              "      quickchartButtonEl.style.display =\n",
              "        google.colab.kernel.accessAllowed ? 'block' : 'none';\n",
              "    })();\n",
              "  </script>\n",
              "</div>\n",
              "    </div>\n",
              "  </div>\n"
            ]
          },
          "metadata": {},
          "execution_count": 19
        }
      ]
    },
    {
      "cell_type": "code",
      "source": [
        "len(df)"
      ],
      "metadata": {
        "colab": {
          "base_uri": "https://localhost:8080/"
        },
        "id": "WYRkg3OjJOZF",
        "outputId": "8e02fdc2-b370-45d7-ad07-82632ea6400d"
      },
      "execution_count": 20,
      "outputs": [
        {
          "output_type": "execute_result",
          "data": {
            "text/plain": [
              "12120"
            ]
          },
          "metadata": {},
          "execution_count": 20
        }
      ]
    },
    {
      "cell_type": "code",
      "source": [
        "# Compter le nombre de labels distincts\n",
        "num_unique_labels = df['label'].nunique()\n",
        "print(num_unique_labels)"
      ],
      "metadata": {
        "colab": {
          "base_uri": "https://localhost:8080/"
        },
        "id": "N-hTbvK0Ji4D",
        "outputId": "124231cb-5027-446e-899f-522f69d83045"
      },
      "execution_count": 21,
      "outputs": [
        {
          "output_type": "stream",
          "name": "stdout",
          "text": [
            "3\n"
          ]
        }
      ]
    },
    {
      "cell_type": "code",
      "source": [
        "# Afficher les labels distincts\n",
        "unique_labels = df['label'].unique()\n",
        "print(f\"Labels distincts : {unique_labels}\")"
      ],
      "metadata": {
        "colab": {
          "base_uri": "https://localhost:8080/"
        },
        "id": "dHDcMgH4J4I9",
        "outputId": "4557b224-1d98-4738-8f99-2fbdc5ff11c5"
      },
      "execution_count": 22,
      "outputs": [
        {
          "output_type": "stream",
          "name": "stdout",
          "text": [
            "Labels distincts : [0 2 1]\n"
          ]
        }
      ]
    },
    {
      "cell_type": "code",
      "source": [
        "# Compter le nombre de langues distinctes\n",
        "num_unique_language = df['language'].nunique()\n",
        "print(f\"Nombre de langues distinctes : {num_unique_language}\")"
      ],
      "metadata": {
        "colab": {
          "base_uri": "https://localhost:8080/"
        },
        "id": "xKV5n4BZKXf2",
        "outputId": "5f1b937f-3413-428d-c0ec-5cbe78f01d0e"
      },
      "execution_count": 23,
      "outputs": [
        {
          "output_type": "stream",
          "name": "stdout",
          "text": [
            "Nombre de langues distinctes : 15\n"
          ]
        }
      ]
    },
    {
      "cell_type": "code",
      "source": [
        "# Afficher les langues distincts\n",
        "unique_language = df['language'].unique()\n",
        "print(f\"langues distinctes : {unique_language}\")\n"
      ],
      "metadata": {
        "colab": {
          "base_uri": "https://localhost:8080/"
        },
        "id": "pXiT7znbKdZG",
        "outputId": "a6665f69-f307-4ac8-8899-9ab157b2a780"
      },
      "execution_count": 24,
      "outputs": [
        {
          "output_type": "stream",
          "name": "stdout",
          "text": [
            "langues distinctes : ['English' 'French' 'Thai' 'Turkish' 'Urdu' 'Russian' 'Bulgarian' 'German'\n",
            " 'Arabic' 'Chinese' 'Hindi' 'Swahili' 'Vietnamese' 'Spanish' 'Greek']\n"
          ]
        }
      ]
    },
    {
      "cell_type": "markdown",
      "source": [
        "# Modeling"
      ],
      "metadata": {
        "id": "Op--OBHCs-9g"
      }
    },
    {
      "cell_type": "code",
      "execution_count": 25,
      "metadata": {
        "id": "ZO0bcql4xR8h"
      },
      "outputs": [],
      "source": [
        "#!pip install transformers\n",
        "#!pip install wandb"
      ]
    },
    {
      "cell_type": "code",
      "source": [
        "from transformers import AutoTokenizer, BertModel, AdamW, PreTrainedModel, BertForPreTraining\n",
        "import torch\n",
        "import torch.nn as nn\n",
        "from torch.utils.data import Dataset, DataLoader\n",
        "import torch.optim as optim\n",
        "import pandas as pd\n",
        "import torch.nn.functional as F\n",
        "from huggingface_hub import PyTorchModelHubMixin\n",
        "\n",
        "\n",
        "from tqdm import tqdm\n",
        "\n",
        "from sklearn.model_selection import train_test_split\n",
        "\n",
        "import wandb"
      ],
      "metadata": {
        "id": "2SEf4Ou4dflF"
      },
      "execution_count": 125,
      "outputs": []
    },
    {
      "cell_type": "code",
      "source": [
        "config = {\n",
        "    \"num_epochs\" : 2,\n",
        "    \"max_length\" : 80,\n",
        "    \"num_classes\" : 3,\n",
        "    \"learning_rate\" : 2e-5,\n",
        "    \"batch_size\" : 16,\n",
        "    \"shuffle\" : True,\n",
        "    \"model_name\" : 'bert-base-multilingual-cased',\n",
        "    \"device\" : torch.device('cuda' if torch.cuda.is_available() else 'cpu'),\n",
        "    \"file\" : \"/content/drive/Othercomputers/Mon ordinateur/DIT MASTER1 2022/MASTER 2/DEEP LEARNING/devoir/contradictory-my-dear.xlsx\"\n",
        "}"
      ],
      "metadata": {
        "id": "VZ3gIPPgdoBl"
      },
      "execution_count": 153,
      "outputs": []
    },
    {
      "cell_type": "code",
      "source": [
        "class MyDataset(Dataset):\n",
        "    def __init__(self, excel_file, tokenizer, max_length):\n",
        "        self.df = pd.read_excel(excel_file)\n",
        "        self.tokenizer = tokenizer\n",
        "        self.max_length = max_length\n",
        "\n",
        "    def __len__(self):\n",
        "        return len(self.df)\n",
        "\n",
        "    def __getitem__(self, index):\n",
        "\n",
        "        item = self.df.iloc[index]\n",
        "        premise = item['premise']\n",
        "        hypothesis = item['hypothesis']\n",
        "        label = item['label']\n",
        "\n",
        "        inputs = self.tokenizer(premise, hypothesis, max_length=self.max_length, padding='max_length', truncation=True, return_tensors='pt')\n",
        "\n",
        "        return {\n",
        "            \"input_ids\" : inputs['input_ids'],\n",
        "            \"attention_mask\" : inputs['attention_mask'],\n",
        "            \"label\" : torch.tensor(label)\n",
        "        }"
      ],
      "metadata": {
        "id": "-68oRoPgdrJ2"
      },
      "execution_count": 93,
      "outputs": []
    },
    {
      "cell_type": "code",
      "source": [
        "# dataloader\n",
        "def dataloader(dataset, batch_size, shuffle):\n",
        "    return DataLoader(dataset=dataset, batch_size= batch_size, shuffle=shuffle)"
      ],
      "metadata": {
        "id": "W3mtCyUpdurK"
      },
      "execution_count": 94,
      "outputs": []
    },
    {
      "cell_type": "code",
      "source": [
        "class CustomModel(nn.Module, PyTorchModelHubMixin):\n",
        "    def __init__(self, model_name, num_classes):\n",
        "        super(CustomModel, self).__init__()\n",
        "        self.pretrained_model = BertModel.from_pretrained(model_name) # 768 corresponds to the BERT's output size\n",
        "        self.classifier = nn.Linear(768, num_classes)   # MLP\n",
        "\n",
        "    def forward(self, input_ids, attention_mask):\n",
        "        output = self.pretrained_model(input_ids=input_ids, attention_mask=attention_mask) # (bacth 768)\n",
        "        output = self.classifier(output.last_hidden_state)\n",
        "        return output"
      ],
      "metadata": {
        "id": "BxLiDo-MdxVi"
      },
      "execution_count": 132,
      "outputs": []
    },
    {
      "cell_type": "code",
      "source": [
        "# training step\n",
        "def train_step(model, train_loader, optimizer, loss_fn, device):\n",
        "    model.train()\n",
        "\n",
        "    total_loss = 0\n",
        "\n",
        "    for data in tqdm(train_loader, total = len(train_loader)):\n",
        "        inputs = data['input_ids'].to(device)\n",
        "        attention_mask = data['attention_mask'].to(device)\n",
        "        targets = data['label'].to(device)\n",
        "\n",
        "        optimizer.zero_grad()\n",
        "        output = model(inputs.squeeze(1), attention_mask)\n",
        "        loss = loss_fn(output, F.one_hot(targets, num_classes=3))\n",
        "\n",
        "        # backward\n",
        "        loss.backward()\n",
        "        optimizer.step()\n",
        "\n",
        "        total_loss += loss.item()\n",
        "\n",
        "    return  total_loss / len(train_loader)"
      ],
      "metadata": {
        "id": "nb0B5WIId1at"
      },
      "execution_count": 96,
      "outputs": []
    },
    {
      "cell_type": "code",
      "source": [
        "def validation_step(model, validation_loader, loss_fn, device):\n",
        "    total_loss = 0\n",
        "    correct_prediction = 0\n",
        "\n",
        "    with torch.no_grad():\n",
        "        for data in tqdm(validation_loader, total = len(validation_loader)):\n",
        "            input_ids = data['input_ids'].squeeze(1).to(device)\n",
        "            attention_mask = data['attention_mask'].to(device)\n",
        "            targets = data['label'].to(device)\n",
        "\n",
        "            output = model(input_ids = input_ids, attention_mask = attention_mask)\n",
        "            loss = loss_fn(output, F.one_hot(targets, num_classes=3))\n",
        "\n",
        "            total_loss += loss.item()\n",
        "\n",
        "            pred = torch.max(torch.softmax(output, dim=1), dim = 1)\n",
        "            correct_prediction += torch.sum(pred.indices==F.one_hot(targets, num_classes=3))\n",
        "\n",
        "\n",
        "        return  total_loss / len(validation_loader), 100*correct_prediction/len(validation_loader)"
      ],
      "metadata": {
        "id": "M5GXVrIpd6Y6"
      },
      "execution_count": 97,
      "outputs": []
    },
    {
      "cell_type": "code",
      "source": [
        "# main\n",
        "def main():\n",
        "    wandb.init('bert_classification')\n",
        "\n",
        "    tokenizer = AutoTokenizer.from_pretrained(config['model_name'])\n",
        "    # dataset\n",
        "    dataset = MyDataset(excel_file=config['file'], tokenizer=tokenizer, max_length=config['max_length'])\n",
        "\n",
        "    train_dataset, validation_dataset = train_test_split(dataset, test_size=0.2)\n",
        "\n",
        "    # trainloader\n",
        "    train_loader = dataloader(train_dataset, batch_size=config['batch_size'], shuffle=True)\n",
        "    validation_loader = dataloader(validation_dataset, batch_size=config['batch_size'], shuffle=False)\n",
        "\n",
        "    # model\n",
        "    model = CustomModel(model_name=config['model_name'], num_classes=config['num_classes'])\n",
        "    model.to(config['device'])\n",
        "\n",
        "    loss_fn = nn.CrossEntropyLoss()\n",
        "    optimizer = AdamW(model.parameters(), lr=config['learning_rate'])\n",
        "\n",
        "    for epoch in range(config['num_epochs']):\n",
        "        loss_train = train_step(model, train_loader, optimizer, loss_fn, config['device'])\n",
        "        loss_validatiton, accuracy = validation_step(model, validation_loader, loss_fn, config['device'])\n",
        "\n",
        "        wandb.log({\n",
        "            \"loss_train\":loss_train,\n",
        "            \"loss_validatiton\":loss_validatiton,\n",
        "            \"accuracy\":accuracy\n",
        "            })\n",
        "    # push model to hub\n",
        "    model.push_to_hub(\"billfass/multilingual_bert_model_classiffication\")\n",
        "    tokenizer.push_to_hub(\"billfass/multilingual_bert_model_classiffication\")\n",
        "    model.pretrained_model.config.push_to_hub(\"billfass/multilingual_bert_model_classiffication\")"
      ],
      "metadata": {
        "id": "he5vo6uQeRCh"
      },
      "execution_count": 154,
      "outputs": []
    },
    {
      "cell_type": "code",
      "source": [
        "!git config --global credential.helper store\n",
        "!huggingface-cli login"
      ],
      "metadata": {
        "colab": {
          "base_uri": "https://localhost:8080/"
        },
        "id": "slLPIqQGG3qQ",
        "outputId": "b09386ec-2f2c-4f0d-a80e-0ab0d5b5453f"
      },
      "execution_count": null,
      "outputs": [
        {
          "output_type": "stream",
          "name": "stdout",
          "text": [
            "\n",
            "    _|    _|  _|    _|    _|_|_|    _|_|_|  _|_|_|  _|      _|    _|_|_|      _|_|_|_|    _|_|      _|_|_|  _|_|_|_|\n",
            "    _|    _|  _|    _|  _|        _|          _|    _|_|    _|  _|            _|        _|    _|  _|        _|\n",
            "    _|_|_|_|  _|    _|  _|  _|_|  _|  _|_|    _|    _|  _|  _|  _|  _|_|      _|_|_|    _|_|_|_|  _|        _|_|_|\n",
            "    _|    _|  _|    _|  _|    _|  _|    _|    _|    _|    _|_|  _|    _|      _|        _|    _|  _|        _|\n",
            "    _|    _|    _|_|      _|_|_|    _|_|_|  _|_|_|  _|      _|    _|_|_|      _|        _|    _|    _|_|_|  _|_|_|_|\n",
            "    \n",
            "    A token is already saved on your machine. Run `huggingface-cli whoami` to get more information or `huggingface-cli logout` if you want to log out.\n",
            "    Setting a new token will erase the existing one.\n",
            "    To login, `huggingface_hub` requires a token generated from https://huggingface.co/settings/tokens .\n",
            "Token: \n",
            "Add token as git credential? (Y/n) Y\n",
            "Token is valid (permission: write).\n",
            "Your token has been saved in your configured git credential helpers (store).\n",
            "Your token has been saved to /root/.cache/huggingface/token\n",
            "Login successful\n"
          ]
        }
      ]
    },
    {
      "cell_type": "code",
      "source": [
        "main()"
      ],
      "metadata": {
        "colab": {
          "base_uri": "https://localhost:8080/",
          "height": 534,
          "referenced_widgets": [
            "7ff88f22b95d4b16b5552e2640779743",
            "70f2b2580206423fbbe3cdfdb331f221",
            "7c870f94249246279dab1e609868f6a8",
            "a5f20a2bdd394565ada96d5736a8d8c8",
            "f945ffa8d8914760b52e67d784db5fa5",
            "849ceac02a3d458d9131a99d8d138e42",
            "5f4d23ed3d0d480fa92c4bed5f12843a",
            "172613a6e7a14fdb8439109f007c2306",
            "fa2a402290654571a93dfa8c00651811",
            "62a1df84eb794b7782a4a9ffa162447b",
            "dd78881e4e234568ad1815e24275a8a6"
          ]
        },
        "id": "owcgx2CYeWWX",
        "outputId": "13b241d9-abfb-409a-fa6b-cde0618be822"
      },
      "execution_count": 155,
      "outputs": [
        {
          "output_type": "display_data",
          "data": {
            "text/plain": [
              "<IPython.core.display.HTML object>"
            ],
            "text/html": [
              "Finishing last run (ID:gipdyxcb) before initializing another..."
            ]
          },
          "metadata": {}
        },
        {
          "output_type": "display_data",
          "data": {
            "text/plain": [
              "<IPython.core.display.HTML object>"
            ],
            "text/html": [
              "Waiting for W&B process to finish... <strong style=\"color:green\">(success).</strong>"
            ]
          },
          "metadata": {}
        },
        {
          "output_type": "display_data",
          "data": {
            "text/plain": [
              "<IPython.core.display.HTML object>"
            ],
            "text/html": [
              "<style>\n",
              "    table.wandb td:nth-child(1) { padding: 0 10px; text-align: left ; width: auto;} td:nth-child(2) {text-align: left ; width: 100%}\n",
              "    .wandb-row { display: flex; flex-direction: row; flex-wrap: wrap; justify-content: flex-start; width: 100% }\n",
              "    .wandb-col { display: flex; flex-direction: column; flex-basis: 100%; flex: 1; padding: 10px; }\n",
              "    </style>\n",
              "<div class=\"wandb-row\"><div class=\"wandb-col\"><h3>Run history:</h3><br/><table class=\"wandb\"><tr><td>accuracy</td><td>▁▇██▇▇▇▇▇▇</td></tr><tr><td>loss_train</td><td>█▇▅▄▃▂▁▁▁▁</td></tr><tr><td>loss_validatiton</td><td>▂▁▁▂▃▄▇▆█▆</td></tr></table><br/></div><div class=\"wandb-col\"><h3>Run summary:</h3><br/><table class=\"wandb\"><tr><td>accuracy</td><td>3492.76318</td></tr><tr><td>loss_train</td><td>0.0547</td></tr><tr><td>loss_validatiton</td><td>0.87374</td></tr></table><br/></div></div>"
            ]
          },
          "metadata": {}
        },
        {
          "output_type": "display_data",
          "data": {
            "text/plain": [
              "<IPython.core.display.HTML object>"
            ],
            "text/html": [
              " View run <strong style=\"color:#cdcd00\">dulcet-breeze-19</strong> at: <a href='https://wandb.ai/utech/uncategorized/runs/gipdyxcb' target=\"_blank\">https://wandb.ai/utech/uncategorized/runs/gipdyxcb</a><br/>Synced 5 W&B file(s), 0 media file(s), 0 artifact file(s) and 0 other file(s)"
            ]
          },
          "metadata": {}
        },
        {
          "output_type": "display_data",
          "data": {
            "text/plain": [
              "<IPython.core.display.HTML object>"
            ],
            "text/html": [
              "Find logs at: <code>/content/wandb/run-20230907_190730-gipdyxcb/logs</code>"
            ]
          },
          "metadata": {}
        },
        {
          "output_type": "display_data",
          "data": {
            "text/plain": [
              "<IPython.core.display.HTML object>"
            ],
            "text/html": [
              "Successfully finished last run (ID:gipdyxcb). Initializing new run:<br/>"
            ]
          },
          "metadata": {}
        },
        {
          "output_type": "display_data",
          "data": {
            "text/plain": [
              "<IPython.core.display.HTML object>"
            ],
            "text/html": [
              "Tracking run with wandb version 0.15.10"
            ]
          },
          "metadata": {}
        },
        {
          "output_type": "display_data",
          "data": {
            "text/plain": [
              "<IPython.core.display.HTML object>"
            ],
            "text/html": [
              "Run data is saved locally in <code>/content/wandb/run-20230907_202118-ms979uj6</code>"
            ]
          },
          "metadata": {}
        },
        {
          "output_type": "display_data",
          "data": {
            "text/plain": [
              "<IPython.core.display.HTML object>"
            ],
            "text/html": [
              "Syncing run <strong><a href='https://wandb.ai/utech/uncategorized/runs/ms979uj6' target=\"_blank\">lucky-capybara-20</a></strong> to <a href='https://wandb.ai/utech/uncategorized' target=\"_blank\">Weights & Biases</a> (<a href='https://wandb.me/run' target=\"_blank\">docs</a>)<br/>"
            ]
          },
          "metadata": {}
        },
        {
          "output_type": "display_data",
          "data": {
            "text/plain": [
              "<IPython.core.display.HTML object>"
            ],
            "text/html": [
              " View project at <a href='https://wandb.ai/utech/uncategorized' target=\"_blank\">https://wandb.ai/utech/uncategorized</a>"
            ]
          },
          "metadata": {}
        },
        {
          "output_type": "display_data",
          "data": {
            "text/plain": [
              "<IPython.core.display.HTML object>"
            ],
            "text/html": [
              " View run at <a href='https://wandb.ai/utech/uncategorized/runs/ms979uj6' target=\"_blank\">https://wandb.ai/utech/uncategorized/runs/ms979uj6</a>"
            ]
          },
          "metadata": {}
        },
        {
          "output_type": "stream",
          "name": "stderr",
          "text": [
            "/usr/local/lib/python3.10/dist-packages/transformers/optimization.py:411: FutureWarning: This implementation of AdamW is deprecated and will be removed in a future version. Use the PyTorch implementation torch.optim.AdamW instead, or set `no_deprecation_warning=True` to disable this warning\n",
            "  warnings.warn(\n",
            "100%|██████████| 606/606 [00:50<00:00, 12.08it/s]\n",
            "100%|██████████| 152/152 [00:03<00:00, 43.47it/s]\n",
            "100%|██████████| 606/606 [00:50<00:00, 11.99it/s]\n",
            "100%|██████████| 152/152 [00:03<00:00, 43.53it/s]\n"
          ]
        },
        {
          "output_type": "display_data",
          "data": {
            "text/plain": [
              "pytorch_model.bin:   0%|          | 0.00/712M [00:00<?, ?B/s]"
            ],
            "application/vnd.jupyter.widget-view+json": {
              "version_major": 2,
              "version_minor": 0,
              "model_id": "7ff88f22b95d4b16b5552e2640779743"
            }
          },
          "metadata": {}
        }
      ]
    },
    {
      "cell_type": "markdown",
      "source": [
        "#Deployment"
      ],
      "metadata": {
        "id": "eNATyPyvvWfv"
      }
    }
  ],
  "metadata": {
    "colab": {
      "provenance": [],
      "machine_shape": "hm",
      "gpuType": "V100"
    },
    "kernelspec": {
      "display_name": "Python 3",
      "name": "python3"
    },
    "language_info": {
      "codemirror_mode": {
        "name": "ipython",
        "version": 3
      },
      "file_extension": ".py",
      "mimetype": "text/x-python",
      "name": "python",
      "nbconvert_exporter": "python",
      "pygments_lexer": "ipython3",
      "version": "3.11.4"
    },
    "accelerator": "GPU",
    "widgets": {
      "application/vnd.jupyter.widget-state+json": {
        "7ff88f22b95d4b16b5552e2640779743": {
          "model_module": "@jupyter-widgets/controls",
          "model_name": "HBoxModel",
          "model_module_version": "1.5.0",
          "state": {
            "_dom_classes": [],
            "_model_module": "@jupyter-widgets/controls",
            "_model_module_version": "1.5.0",
            "_model_name": "HBoxModel",
            "_view_count": null,
            "_view_module": "@jupyter-widgets/controls",
            "_view_module_version": "1.5.0",
            "_view_name": "HBoxView",
            "box_style": "",
            "children": [
              "IPY_MODEL_70f2b2580206423fbbe3cdfdb331f221",
              "IPY_MODEL_7c870f94249246279dab1e609868f6a8",
              "IPY_MODEL_a5f20a2bdd394565ada96d5736a8d8c8"
            ],
            "layout": "IPY_MODEL_f945ffa8d8914760b52e67d784db5fa5"
          }
        },
        "70f2b2580206423fbbe3cdfdb331f221": {
          "model_module": "@jupyter-widgets/controls",
          "model_name": "HTMLModel",
          "model_module_version": "1.5.0",
          "state": {
            "_dom_classes": [],
            "_model_module": "@jupyter-widgets/controls",
            "_model_module_version": "1.5.0",
            "_model_name": "HTMLModel",
            "_view_count": null,
            "_view_module": "@jupyter-widgets/controls",
            "_view_module_version": "1.5.0",
            "_view_name": "HTMLView",
            "description": "",
            "description_tooltip": null,
            "layout": "IPY_MODEL_849ceac02a3d458d9131a99d8d138e42",
            "placeholder": "​",
            "style": "IPY_MODEL_5f4d23ed3d0d480fa92c4bed5f12843a",
            "value": "pytorch_model.bin: 100%"
          }
        },
        "7c870f94249246279dab1e609868f6a8": {
          "model_module": "@jupyter-widgets/controls",
          "model_name": "FloatProgressModel",
          "model_module_version": "1.5.0",
          "state": {
            "_dom_classes": [],
            "_model_module": "@jupyter-widgets/controls",
            "_model_module_version": "1.5.0",
            "_model_name": "FloatProgressModel",
            "_view_count": null,
            "_view_module": "@jupyter-widgets/controls",
            "_view_module_version": "1.5.0",
            "_view_name": "ProgressView",
            "bar_style": "success",
            "description": "",
            "description_tooltip": null,
            "layout": "IPY_MODEL_172613a6e7a14fdb8439109f007c2306",
            "max": 711510449,
            "min": 0,
            "orientation": "horizontal",
            "style": "IPY_MODEL_fa2a402290654571a93dfa8c00651811",
            "value": 711510449
          }
        },
        "a5f20a2bdd394565ada96d5736a8d8c8": {
          "model_module": "@jupyter-widgets/controls",
          "model_name": "HTMLModel",
          "model_module_version": "1.5.0",
          "state": {
            "_dom_classes": [],
            "_model_module": "@jupyter-widgets/controls",
            "_model_module_version": "1.5.0",
            "_model_name": "HTMLModel",
            "_view_count": null,
            "_view_module": "@jupyter-widgets/controls",
            "_view_module_version": "1.5.0",
            "_view_name": "HTMLView",
            "description": "",
            "description_tooltip": null,
            "layout": "IPY_MODEL_62a1df84eb794b7782a4a9ffa162447b",
            "placeholder": "​",
            "style": "IPY_MODEL_dd78881e4e234568ad1815e24275a8a6",
            "value": " 712M/712M [00:43&lt;00:00, 25.9MB/s]"
          }
        },
        "f945ffa8d8914760b52e67d784db5fa5": {
          "model_module": "@jupyter-widgets/base",
          "model_name": "LayoutModel",
          "model_module_version": "1.2.0",
          "state": {
            "_model_module": "@jupyter-widgets/base",
            "_model_module_version": "1.2.0",
            "_model_name": "LayoutModel",
            "_view_count": null,
            "_view_module": "@jupyter-widgets/base",
            "_view_module_version": "1.2.0",
            "_view_name": "LayoutView",
            "align_content": null,
            "align_items": null,
            "align_self": null,
            "border": null,
            "bottom": null,
            "display": null,
            "flex": null,
            "flex_flow": null,
            "grid_area": null,
            "grid_auto_columns": null,
            "grid_auto_flow": null,
            "grid_auto_rows": null,
            "grid_column": null,
            "grid_gap": null,
            "grid_row": null,
            "grid_template_areas": null,
            "grid_template_columns": null,
            "grid_template_rows": null,
            "height": null,
            "justify_content": null,
            "justify_items": null,
            "left": null,
            "margin": null,
            "max_height": null,
            "max_width": null,
            "min_height": null,
            "min_width": null,
            "object_fit": null,
            "object_position": null,
            "order": null,
            "overflow": null,
            "overflow_x": null,
            "overflow_y": null,
            "padding": null,
            "right": null,
            "top": null,
            "visibility": null,
            "width": null
          }
        },
        "849ceac02a3d458d9131a99d8d138e42": {
          "model_module": "@jupyter-widgets/base",
          "model_name": "LayoutModel",
          "model_module_version": "1.2.0",
          "state": {
            "_model_module": "@jupyter-widgets/base",
            "_model_module_version": "1.2.0",
            "_model_name": "LayoutModel",
            "_view_count": null,
            "_view_module": "@jupyter-widgets/base",
            "_view_module_version": "1.2.0",
            "_view_name": "LayoutView",
            "align_content": null,
            "align_items": null,
            "align_self": null,
            "border": null,
            "bottom": null,
            "display": null,
            "flex": null,
            "flex_flow": null,
            "grid_area": null,
            "grid_auto_columns": null,
            "grid_auto_flow": null,
            "grid_auto_rows": null,
            "grid_column": null,
            "grid_gap": null,
            "grid_row": null,
            "grid_template_areas": null,
            "grid_template_columns": null,
            "grid_template_rows": null,
            "height": null,
            "justify_content": null,
            "justify_items": null,
            "left": null,
            "margin": null,
            "max_height": null,
            "max_width": null,
            "min_height": null,
            "min_width": null,
            "object_fit": null,
            "object_position": null,
            "order": null,
            "overflow": null,
            "overflow_x": null,
            "overflow_y": null,
            "padding": null,
            "right": null,
            "top": null,
            "visibility": null,
            "width": null
          }
        },
        "5f4d23ed3d0d480fa92c4bed5f12843a": {
          "model_module": "@jupyter-widgets/controls",
          "model_name": "DescriptionStyleModel",
          "model_module_version": "1.5.0",
          "state": {
            "_model_module": "@jupyter-widgets/controls",
            "_model_module_version": "1.5.0",
            "_model_name": "DescriptionStyleModel",
            "_view_count": null,
            "_view_module": "@jupyter-widgets/base",
            "_view_module_version": "1.2.0",
            "_view_name": "StyleView",
            "description_width": ""
          }
        },
        "172613a6e7a14fdb8439109f007c2306": {
          "model_module": "@jupyter-widgets/base",
          "model_name": "LayoutModel",
          "model_module_version": "1.2.0",
          "state": {
            "_model_module": "@jupyter-widgets/base",
            "_model_module_version": "1.2.0",
            "_model_name": "LayoutModel",
            "_view_count": null,
            "_view_module": "@jupyter-widgets/base",
            "_view_module_version": "1.2.0",
            "_view_name": "LayoutView",
            "align_content": null,
            "align_items": null,
            "align_self": null,
            "border": null,
            "bottom": null,
            "display": null,
            "flex": null,
            "flex_flow": null,
            "grid_area": null,
            "grid_auto_columns": null,
            "grid_auto_flow": null,
            "grid_auto_rows": null,
            "grid_column": null,
            "grid_gap": null,
            "grid_row": null,
            "grid_template_areas": null,
            "grid_template_columns": null,
            "grid_template_rows": null,
            "height": null,
            "justify_content": null,
            "justify_items": null,
            "left": null,
            "margin": null,
            "max_height": null,
            "max_width": null,
            "min_height": null,
            "min_width": null,
            "object_fit": null,
            "object_position": null,
            "order": null,
            "overflow": null,
            "overflow_x": null,
            "overflow_y": null,
            "padding": null,
            "right": null,
            "top": null,
            "visibility": null,
            "width": null
          }
        },
        "fa2a402290654571a93dfa8c00651811": {
          "model_module": "@jupyter-widgets/controls",
          "model_name": "ProgressStyleModel",
          "model_module_version": "1.5.0",
          "state": {
            "_model_module": "@jupyter-widgets/controls",
            "_model_module_version": "1.5.0",
            "_model_name": "ProgressStyleModel",
            "_view_count": null,
            "_view_module": "@jupyter-widgets/base",
            "_view_module_version": "1.2.0",
            "_view_name": "StyleView",
            "bar_color": null,
            "description_width": ""
          }
        },
        "62a1df84eb794b7782a4a9ffa162447b": {
          "model_module": "@jupyter-widgets/base",
          "model_name": "LayoutModel",
          "model_module_version": "1.2.0",
          "state": {
            "_model_module": "@jupyter-widgets/base",
            "_model_module_version": "1.2.0",
            "_model_name": "LayoutModel",
            "_view_count": null,
            "_view_module": "@jupyter-widgets/base",
            "_view_module_version": "1.2.0",
            "_view_name": "LayoutView",
            "align_content": null,
            "align_items": null,
            "align_self": null,
            "border": null,
            "bottom": null,
            "display": null,
            "flex": null,
            "flex_flow": null,
            "grid_area": null,
            "grid_auto_columns": null,
            "grid_auto_flow": null,
            "grid_auto_rows": null,
            "grid_column": null,
            "grid_gap": null,
            "grid_row": null,
            "grid_template_areas": null,
            "grid_template_columns": null,
            "grid_template_rows": null,
            "height": null,
            "justify_content": null,
            "justify_items": null,
            "left": null,
            "margin": null,
            "max_height": null,
            "max_width": null,
            "min_height": null,
            "min_width": null,
            "object_fit": null,
            "object_position": null,
            "order": null,
            "overflow": null,
            "overflow_x": null,
            "overflow_y": null,
            "padding": null,
            "right": null,
            "top": null,
            "visibility": null,
            "width": null
          }
        },
        "dd78881e4e234568ad1815e24275a8a6": {
          "model_module": "@jupyter-widgets/controls",
          "model_name": "DescriptionStyleModel",
          "model_module_version": "1.5.0",
          "state": {
            "_model_module": "@jupyter-widgets/controls",
            "_model_module_version": "1.5.0",
            "_model_name": "DescriptionStyleModel",
            "_view_count": null,
            "_view_module": "@jupyter-widgets/base",
            "_view_module_version": "1.2.0",
            "_view_name": "StyleView",
            "description_width": ""
          }
        }
      }
    }
  },
  "nbformat": 4,
  "nbformat_minor": 0
}